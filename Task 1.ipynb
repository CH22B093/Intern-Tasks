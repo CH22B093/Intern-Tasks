{
 "cells": [
  {
   "cell_type": "code",
   "execution_count": 1,
   "id": "8d11af5c-ad4c-47dc-818c-6a2372194a9f",
   "metadata": {},
   "outputs": [
    {
     "name": "stderr",
     "output_type": "stream",
     "text": [
      "[nltk_data] Downloading package punkt to C:\\Users\\Roopesh\n",
      "[nltk_data]     P\\AppData\\Roaming\\nltk_data...\n",
      "[nltk_data]   Package punkt is already up-to-date!\n",
      "[nltk_data] Downloading package stopwords to C:\\Users\\Roopesh\n",
      "[nltk_data]     P\\AppData\\Roaming\\nltk_data...\n",
      "[nltk_data]   Package stopwords is already up-to-date!\n"
     ]
    },
    {
     "data": {
      "text/plain": [
       "True"
      ]
     },
     "execution_count": 1,
     "metadata": {},
     "output_type": "execute_result"
    }
   ],
   "source": [
    "import nltk\n",
    "import time\n",
    "from nltk.tokenize import sent_tokenize, word_tokenize\n",
    "from nltk.corpus import stopwords\n",
    "from nltk.cluster.util import cosine_distance\n",
    "import numpy as np\n",
    "import networkx as nx\n",
    "from sklearn.feature_extraction.text import TfidfVectorizer\n",
    "from sklearn.metrics.pairwise import cosine_similarity\n",
    "from rouge import Rouge\n",
    "from textstat import flesch_reading_ease\n",
    "\n",
    "nltk.download('punkt')\n",
    "nltk.download('stopwords')\n"
   ]
  },
  {
   "cell_type": "code",
   "execution_count": 2,
   "id": "4ce3898e-d292-4d5b-a478-326175f03006",
   "metadata": {},
   "outputs": [
    {
     "name": "stdout",
     "output_type": "stream",
     "text": [
      "Generated Summary:\n",
      "Steve Jobs was a visionary leader and co-founder of Apple Inc. In 1976, Jobs and his friend Steve Wozniak founded Apple Computer in the Jobs family garage. Although NeXT was not a commercial success, its technology was later used as the foundation for Apple's operating system when Jobs returned to the company in 1997. After leaving Apple in 1985, Jobs founded NeXT, a company that developed high-end computers for business and education markets. Returning to Apple, Jobs revitalized the company with the introduction of the iMac, iTunes, iPod, iPhone, and iPad.\n",
      "\n",
      "Performance Metrics:\n",
      "Cosine Similarity: 0.80\n",
      "Compression Ratio: 24.73%\n",
      "ROUGE Scores: {'rouge-1': {'r': 0.315, 'p': 1.0, 'f': 0.4790874488282324}, 'rouge-2': {'r': 0.2522255192878338, 'p': 0.9550561797752809, 'f': 0.39906102955839895}, 'rouge-l': {'r': 0.315, 'p': 1.0, 'f': 0.4790874488282324}}\n",
      "Readability Score: 44.54\n",
      "Execution Time: 0.1661 seconds\n"
     ]
    }
   ],
   "source": [
    "def pre_process_text(text):\n",
    "    sentences = sent_tokenize(text)\n",
    "    corpus = []\n",
    "    stop_words = set(stopwords.words('english'))\n",
    "    for sentence in sentences:\n",
    "        words = word_tokenize(sentence)\n",
    "        words = [word.lower() for word in words if word.isalnum() and word.lower() not in stop_words]\n",
    "        corpus.append(words)\n",
    "    return corpus\n",
    "\n",
    "def calculate_sentence_similarity(sentence1, sentence2):\n",
    "    all_words = list(set(sentence1 + sentence2))\n",
    "    vector1 = [0] * len(all_words)\n",
    "    vector2 = [0] * len(all_words)\n",
    "\n",
    "    for word in sentence1:\n",
    "        vector1[all_words.index(word)] += 1\n",
    "\n",
    "    for word in sentence2:\n",
    "        vector2[all_words.index(word)] += 1\n",
    "\n",
    "    return 1 - cosine_distance(vector1, vector2)\n",
    "\n",
    "def generate_similarity_matrix(sentences):\n",
    "    sim_mat = np.zeros((len(sentences), len(sentences)))\n",
    "\n",
    "    for i in range(len(sentences)):\n",
    "        for j in range(len(sentences)):\n",
    "            if i != j:\n",
    "                sim_mat[i][j] = calculate_sentence_similarity(sentences[i], sentences[j])\n",
    "\n",
    "    return sim_mat  \n",
    "\n",
    "def rank_sentences(sim_mat):\n",
    "    nx_graph = nx.from_numpy_array(sim_mat)\n",
    "    scores = nx.pagerank(nx_graph)\n",
    "    return scores \n",
    "\n",
    "def generate_summary(text, top_n=10):\n",
    "    processed_sentences = pre_process_text(text)\n",
    "    sim_mat = generate_similarity_matrix(processed_sentences)\n",
    "    sentence_scores = rank_sentences(sim_mat)\n",
    "\n",
    "    ranked_sentences = sorted(((sentence_scores[i], s) for i, s in enumerate(sent_tokenize(text))), reverse=True)\n",
    "    top_n = min(top_n, len(ranked_sentences))\n",
    "    summary = ' '.join([ranked_sentences[i][1] for i in range(top_n)])\n",
    "    return summary\n",
    "\n",
    "def calculate_similarity(original_text, summary):\n",
    "    vectorizer = TfidfVectorizer()\n",
    "    vectors = vectorizer.fit_transform([original_text, summary])\n",
    "    similarity = cosine_similarity(vectors[0], vectors[1])\n",
    "    return similarity[0][0]\n",
    "\n",
    "def calculate_compression(original_text, summary):\n",
    "    original_length = len(original_text.split())\n",
    "    summary_length = len(summary.split())\n",
    "    return (summary_length / original_length) * 100\n",
    "\n",
    "def calculate_rouge(original_text, summary):\n",
    "    rouge = Rouge()\n",
    "    scores = rouge.get_scores(summary, original_text)\n",
    "    return scores[0]\n",
    "\n",
    "def calculate_readability(summary):\n",
    "    return flesch_reading_ease(summary) \n",
    "\n",
    "def summarize_text_file(file_path, top_n=10):\n",
    "    try: \n",
    "        with open(file_path, 'r') as file:\n",
    "            text = file.read()\n",
    "        summary = generate_summary(text, top_n)\n",
    "        return text, summary\n",
    "    except FileNotFoundError:\n",
    "        print(f\"Error: File not found at {file_path}\")\n",
    "        return None, None\n",
    "    except Exception as e:\n",
    "        print(f\"An error occurred: {e}\")\n",
    "        return None, None\n",
    "\n",
    "file_path = r'C:\\Users\\Roopesh P\\OneDrive\\Pictures\\Documents\\Task 1\\te.txt'   #add your own path to the file\n",
    "\n",
    "start_time = time.time()\n",
    "original_text, summary = summarize_text_file(file_path, top_n=5)\n",
    "execution_time = time.time() - start_time\n",
    "\n",
    "if summary:\n",
    "    print(\"Generated Summary:\")\n",
    "    print(summary)\n",
    "\n",
    "    similarity_score = calculate_similarity(original_text, summary)\n",
    "    compression_ratio = calculate_compression(original_text, summary)\n",
    "    rouge_scores = calculate_rouge(original_text, summary)\n",
    "    readability_score = calculate_readability(summary)\n",
    "\n",
    "    print(\"\\nPerformance Metrics:\")\n",
    "    print(f\"Cosine Similarity: {similarity_score:.2f}\")\n",
    "    print(f\"Compression Ratio: {compression_ratio:.2f}%\")\n",
    "    print(f\"ROUGE Scores: {rouge_scores}\")\n",
    "    print(f\"Readability Score: {readability_score:.2f}\")\n",
    "    print(f\"Execution Time: {execution_time:.4f} seconds\")\n",
    "else:\n",
    "    print(\"No summary was generated.\")"
   ]
  }
 ],
 "metadata": {
  "kernelspec": {
   "display_name": "Python 3 (ipykernel)",
   "language": "python",
   "name": "python3"
  },
  "language_info": {
   "codemirror_mode": {
    "name": "ipython",
    "version": 3
   },
   "file_extension": ".py",
   "mimetype": "text/x-python",
   "name": "python",
   "nbconvert_exporter": "python",
   "pygments_lexer": "ipython3",
   "version": "3.12.4"
  }
 },
 "nbformat": 4,
 "nbformat_minor": 5
}
