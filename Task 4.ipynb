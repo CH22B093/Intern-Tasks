{
 "cells": [
  {
   "cell_type": "code",
   "execution_count": 3,
   "id": "8d11af5c-ad4c-47dc-818c-6a2372194a9f",
   "metadata": {},
   "outputs": [],
   "source": [
    "import streamlit as st\n",
    "import pandas as pd\n",
    "import re"
   ]
  },
  {
   "cell_type": "code",
   "execution_count": null,
   "id": "a33d0059-91a7-4b2a-b4d7-cc4f0d7f16b9",
   "metadata": {},
   "outputs": [],
   "source": [
    "DATASET_PATH = r\"C:\\Users\\Roopesh P\\OneDrive\\Pictures\\Documents\\Task 4\\arxiv-metadata-oai-snapshot.json\"  #add path your file\n",
    "\n",
    "def load_arxiv_data(json_path: str):\n",
    "    try:\n",
    "        df = pd.read_json(json_path, lines=True)\n",
    "    except Exception as e:\n",
    "        st.error(f\"Error loading data: {e}\")\n",
    "        df = pd.DataFrame()\n",
    "    return df\n",
    "\n",
    "def basic_search(query: str, data: pd.DataFrame, field: str = 'title', max_results: int = 5):\n",
    "    if field not in data.columns:\n",
    "        return pd.DataFrame()  \n",
    "    pattern = re.compile(query, re.IGNORECASE)\n",
    "    results = data[data[field].str.contains(pattern, na=False)]\n",
    "    return results.head(max_results)\n",
    "\n",
    "def dummy_summarize_text(text: str) -> str:\n",
    "    if len(text.split()) > 50:\n",
    "        return text[:200] + \"...\"\n",
    "    return text\n",
    "\n",
    "def main():\n",
    "    st.title(\"ArXiv Expert Chatbot\")\n",
    "    st.write(\"This application allows you to explore scientific papers from the arXiv dataset.\")\n",
    "\n",
    "    st.subheader(\"Load Dataset\")\n",
    "    if st.button(\"Load\"):\n",
    "        st.write(\"Loading data...\")\n",
    "        data = load_arxiv_data(DATASET_PATH)\n",
    "        st.session_state[\"arxiv_data\"] = data\n",
    "        st.success(\"Dataset loaded successfully!\")\n",
    "\n",
    "    if \"arxiv_data\" in st.session_state:\n",
    "        st.subheader(\"Ask a Question\")\n",
    "        user_query = st.text_input(\"Search term or question about papers (e.g., 'quantum computing'):\")\n",
    "        \n",
    "        if user_query:\n",
    "            results = basic_search(user_query, st.session_state[\"arxiv_data\"], field='title')\n",
    "            if not results.empty:\n",
    "                st.write(f\"Showing top {len(results)} results:\")\n",
    "                for i, row in results.iterrows():\n",
    "                    st.markdown(f\"### Title: {row.get('title', 'N/A')}\")\n",
    "                    st.markdown(f\"**Authors:** {row.get('authors', 'N/A')}\")\n",
    "                    st.markdown(f\"**Category:** {row.get('categories', 'N/A')}\")\n",
    "                    \n",
    "                    abstract_text = row.get('abstract', 'N/A')\n",
    "                    summary_text = dummy_summarize_text(abstract_text)\n",
    "                    st.markdown(f\"**Summary:** {summary_text}\")\n",
    "                    st.markdown(\"---\")\n",
    "            else:\n",
    "                st.write(\"No matching papers found. Try a different search term.\")\n",
    "\n",
    "if __name__ == \"__main__\":\n",
    "    main()"
   ]
  }
 ],
 "metadata": {
  "kernelspec": {
   "display_name": "Python 3 (ipykernel)",
   "language": "python",
   "name": "python3"
  },
  "language_info": {
   "codemirror_mode": {
    "name": "ipython",
    "version": 3
   },
   "file_extension": ".py",
   "mimetype": "text/x-python",
   "name": "python",
   "nbconvert_exporter": "python",
   "pygments_lexer": "ipython3",
   "version": "3.12.4"
  }
 },
 "nbformat": 4,
 "nbformat_minor": 5
}
